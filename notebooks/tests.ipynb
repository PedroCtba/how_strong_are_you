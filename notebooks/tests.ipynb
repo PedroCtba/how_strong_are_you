{
 "cells": [
  {
   "cell_type": "code",
   "execution_count": 7,
   "metadata": {},
   "outputs": [],
   "source": [
    "import pandas as pd\n",
    "\n",
    "df = pd.read_csv(\"../data/openpowerlifting_clean.csv\", usecols=[\"Sex\", \"WeightClassKg\", \"Equipment\", \"Best3SquatKg\", \"Best3BenchKg\", \"Best3DeadliftKg\", \"TotalKg\"])"
   ]
  },
  {
   "cell_type": "code",
   "execution_count": 8,
   "metadata": {},
   "outputs": [],
   "source": [
    "df.loc[df[\"WeightClassKg\"].isin(df[\"WeightClassKg\"].value_counts().loc[df[\"WeightClassKg\"].value_counts() > 50_000].index)].to_pickle(\"openpowerlifting_clean.pkl\")"
   ]
  },
  {
   "cell_type": "code",
   "execution_count": 29,
   "metadata": {},
   "outputs": [
    {
     "data": {
      "text/plain": [
       "array(['Raw', 'Wraps', 'Multi-ply', 'Single-ply', 'Unlimited', 'Straps'],\n",
       "      dtype=object)"
      ]
     },
     "execution_count": 29,
     "metadata": {},
     "output_type": "execute_result"
    }
   ],
   "source": [
    "df.to_pickle(\"openpowerlifting_clean.pkl\")"
   ]
  }
 ],
 "metadata": {
  "kernelspec": {
   "display_name": "pwl_insights",
   "language": "python",
   "name": "python3"
  },
  "language_info": {
   "codemirror_mode": {
    "name": "ipython",
    "version": 3
   },
   "file_extension": ".py",
   "mimetype": "text/x-python",
   "name": "python",
   "nbconvert_exporter": "python",
   "pygments_lexer": "ipython3",
   "version": "3.12.4"
  }
 },
 "nbformat": 4,
 "nbformat_minor": 2
}
